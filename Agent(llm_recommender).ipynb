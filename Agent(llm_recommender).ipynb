{
  "cells": [
    {
      "cell_type": "code",
      "execution_count": 11,
      "metadata": {
        "colab": {
          "base_uri": "https://localhost:8080/"
        },
        "id": "b8178f03",
        "outputId": "2cfa8632-0d92-4733-a40f-cd6e4c425958"
      },
      "outputs": [
        {
          "name": "stdout",
          "output_type": "stream",
          "text": [
            "Requirement already satisfied: langchain-anthropic in /usr/local/lib/python3.11/dist-packages (0.3.17)\n",
            "Requirement already satisfied: langchain-core in /usr/local/lib/python3.11/dist-packages (0.3.68)\n",
            "Requirement already satisfied: anthropic<1,>=0.57.0 in /usr/local/lib/python3.11/dist-packages (from langchain-anthropic) (0.57.1)\n",
            "Requirement already satisfied: pydantic<3.0.0,>=2.7.4 in /usr/local/lib/python3.11/dist-packages (from langchain-anthropic) (2.11.7)\n",
            "Requirement already satisfied: langsmith>=0.3.45 in /usr/local/lib/python3.11/dist-packages (from langchain-core) (0.4.4)\n",
            "Requirement already satisfied: tenacity!=8.4.0,<10.0.0,>=8.1.0 in /usr/local/lib/python3.11/dist-packages (from langchain-core) (8.5.0)\n",
            "Requirement already satisfied: jsonpatch<2.0,>=1.33 in /usr/local/lib/python3.11/dist-packages (from langchain-core) (1.33)\n",
            "Requirement already satisfied: PyYAML>=5.3 in /usr/local/lib/python3.11/dist-packages (from langchain-core) (6.0.2)\n",
            "Requirement already satisfied: packaging<25,>=23.2 in /usr/local/lib/python3.11/dist-packages (from langchain-core) (24.2)\n",
            "Requirement already satisfied: typing-extensions>=4.7 in /usr/local/lib/python3.11/dist-packages (from langchain-core) (4.14.1)\n",
            "Requirement already satisfied: anyio<5,>=3.5.0 in /usr/local/lib/python3.11/dist-packages (from anthropic<1,>=0.57.0->langchain-anthropic) (4.9.0)\n",
            "Requirement already satisfied: distro<2,>=1.7.0 in /usr/local/lib/python3.11/dist-packages (from anthropic<1,>=0.57.0->langchain-anthropic) (1.9.0)\n",
            "Requirement already satisfied: httpx<1,>=0.25.0 in /usr/local/lib/python3.11/dist-packages (from anthropic<1,>=0.57.0->langchain-anthropic) (0.28.1)\n",
            "Requirement already satisfied: jiter<1,>=0.4.0 in /usr/local/lib/python3.11/dist-packages (from anthropic<1,>=0.57.0->langchain-anthropic) (0.10.0)\n",
            "Requirement already satisfied: sniffio in /usr/local/lib/python3.11/dist-packages (from anthropic<1,>=0.57.0->langchain-anthropic) (1.3.1)\n",
            "Requirement already satisfied: jsonpointer>=1.9 in /usr/local/lib/python3.11/dist-packages (from jsonpatch<2.0,>=1.33->langchain-core) (3.0.0)\n",
            "Requirement already satisfied: orjson<4.0.0,>=3.9.14 in /usr/local/lib/python3.11/dist-packages (from langsmith>=0.3.45->langchain-core) (3.10.18)\n",
            "Requirement already satisfied: requests<3,>=2 in /usr/local/lib/python3.11/dist-packages (from langsmith>=0.3.45->langchain-core) (2.32.3)\n",
            "Requirement already satisfied: requests-toolbelt<2.0.0,>=1.0.0 in /usr/local/lib/python3.11/dist-packages (from langsmith>=0.3.45->langchain-core) (1.0.0)\n",
            "Requirement already satisfied: zstandard<0.24.0,>=0.23.0 in /usr/local/lib/python3.11/dist-packages (from langsmith>=0.3.45->langchain-core) (0.23.0)\n",
            "Requirement already satisfied: annotated-types>=0.6.0 in /usr/local/lib/python3.11/dist-packages (from pydantic<3.0.0,>=2.7.4->langchain-anthropic) (0.7.0)\n",
            "Requirement already satisfied: pydantic-core==2.33.2 in /usr/local/lib/python3.11/dist-packages (from pydantic<3.0.0,>=2.7.4->langchain-anthropic) (2.33.2)\n",
            "Requirement already satisfied: typing-inspection>=0.4.0 in /usr/local/lib/python3.11/dist-packages (from pydantic<3.0.0,>=2.7.4->langchain-anthropic) (0.4.1)\n",
            "Requirement already satisfied: idna>=2.8 in /usr/local/lib/python3.11/dist-packages (from anyio<5,>=3.5.0->anthropic<1,>=0.57.0->langchain-anthropic) (3.10)\n",
            "Requirement already satisfied: certifi in /usr/local/lib/python3.11/dist-packages (from httpx<1,>=0.25.0->anthropic<1,>=0.57.0->langchain-anthropic) (2025.7.9)\n",
            "Requirement already satisfied: httpcore==1.* in /usr/local/lib/python3.11/dist-packages (from httpx<1,>=0.25.0->anthropic<1,>=0.57.0->langchain-anthropic) (1.0.9)\n",
            "Requirement already satisfied: h11>=0.16 in /usr/local/lib/python3.11/dist-packages (from httpcore==1.*->httpx<1,>=0.25.0->anthropic<1,>=0.57.0->langchain-anthropic) (0.16.0)\n",
            "Requirement already satisfied: charset-normalizer<4,>=2 in /usr/local/lib/python3.11/dist-packages (from requests<3,>=2->langsmith>=0.3.45->langchain-core) (3.4.2)\n",
            "Requirement already satisfied: urllib3<3,>=1.21.1 in /usr/local/lib/python3.11/dist-packages (from requests<3,>=2->langsmith>=0.3.45->langchain-core) (2.4.0)\n"
          ]
        }
      ],
      "source": [
        "%pip install -U langchain-anthropic langchain-core"
      ]
    },
    {
      "cell_type": "code",
      "execution_count": null,
      "metadata": {
        "colab": {
          "base_uri": "https://localhost:8080/"
        },
        "id": "6g-K6p0hZmK2",
        "outputId": "0333bbe3-4713-4e09-b06e-d8647117c0c5"
      },
      "outputs": [
        {
          "name": "stdout",
          "output_type": "stream",
          "text": [
            "✅ Completed. 100 results saved to churn_llm_decisions.json\n"
          ]
        }
      ],
      "source": [
        "import json\n",
        "from langchain_core.prompts import PromptTemplate\n",
        "from langchain_anthropic import ChatAnthropic\n",
        "from langchain_core.output_parsers import JsonOutputParser # Changed from JsonOutputKeyParser\n",
        "\n",
        "# ---------------------------\n",
        "# SETUP: Claude Model (Sonnet or Opus)\n",
        "# ---------------------------\n",
        "claude = ChatAnthropic(\n",
        "    model=\"claude-3-5-sonnet-20241022\",  # Or use \"claude-3-opus-20240229\"\n",
        "    temperature=0.3,\n",
        "    max_tokens=1024,\n",
        "    api_key=\"sk-XXXXXXXXXXXXXXXXXXXXXXXXXXXXXXXXXXXXXXXXXXXXXXXXXXXXXXXXXXXXX\"  # Replace with your key\n",
        ")\n",
        "\n",
        "# ---------------------------\n",
        "# PROMPT TEMPLATE\n",
        "# ---------------------------\n",
        "prompt = PromptTemplate(\n",
        "    input_variables=[\"employee_json\"],\n",
        "    template=\"\"\"\n",
        "You are an HR AI agent that helps assess employee churn risk and recommends actions.\n",
        "\n",
        "Given this JSON input for an employee:\n",
        "{employee_json}\n",
        "\n",
        "Analyze and return your structured response in the following JSON format:\n",
        "\n",
        "{{\n",
        "  \"employee_id\": <int>,\n",
        "  \"status\": \"HIGH RISK\" | \"LOW RISK\",\n",
        "  \"reasons\": [ ... ],\n",
        "  \"recommended_actions\": [ ... ],\n",
        "  \"summary\": \"<short paragraph summary>\"\n",
        "}}\n",
        "\n",
        "Be concise, accurate, and strictly return valid JSON.\n",
        "\"\"\"\n",
        ")\n",
        "\n",
        "# ---------------------------\n",
        "# LLM Chain\n",
        "# ---------------------------\n",
        "from langchain_core.runnables import RunnableLambda\n",
        "\n",
        "chain = prompt | claude | JsonOutputParser() # Changed from JsonOutputKeyParser(key=\"content\")\n",
        "\n",
        "# ---------------------------\n",
        "# Load Predictions\n",
        "# ---------------------------\n",
        "with open(\"/content/drive/MyDrive/Cog_Culture_Assignment_UserCase2(NAMAN SONI 21CSU438)/Project_Risk_Agent/churn_predictions.json\", \"r\") as f:\n",
        "    predictions = json.load(f)\n",
        "\n",
        "# Add employee IDs\n",
        "for idx, p in enumerate(predictions):\n",
        "    p[\"employee_id\"] = idx\n",
        "\n",
        "# ---------------------------\n",
        "# Run through LLM and collect outputs\n",
        "# ---------------------------\n",
        "results = []\n",
        "for entry in predictions:\n",
        "    employee_json = json.dumps(entry, indent=2)\n",
        "    try:\n",
        "        output = chain.invoke({\"employee_json\": employee_json})\n",
        "        results.append(output)\n",
        "    except Exception as e:\n",
        "        print(f\"Error with employee {entry['employee_id']}: {e}\")\n",
        "        continue\n",
        "\n",
        "# ---------------------------\n",
        "# Save to output file\n",
        "# ---------------------------\n",
        "with open(\"churn_llm_decisions.json\", \"w\") as f:\n",
        "    json.dump(results, f, indent=2)\n",
        "\n",
        "print(f\"✅ Completed. {len(results)} results saved to churn_llm_decisions.json\")"
      ]
    }
  ],
  "metadata": {
    "colab": {
      "provenance": []
    },
    "kernelspec": {
      "display_name": "Python 3",
      "name": "python3"
    },
    "language_info": {
      "name": "python"
    }
  },
  "nbformat": 4,
  "nbformat_minor": 0
}
